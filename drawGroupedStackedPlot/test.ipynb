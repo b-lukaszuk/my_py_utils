{
 "cells": [
  {
   "cell_type": "markdown",
   "metadata": {
    "collapsed": false
   },
   "source": [
    "# pisanie kodu do groupedStack plota"
   ]
  },
  {
   "cell_type": "code",
   "execution_count": 1,
   "metadata": {
    "collapsed": false
   },
   "outputs": [],
   "source": [
    "import pandas as pd\n",
    "import numpy as np\n",
    "import matplotlib as mpl\n",
    "import matplotlib.pyplot as plt\n",
    "import matplotlib.patches as mpatches\n",
    "import seaborn as sns"
   ]
  },
  {
   "cell_type": "code",
   "execution_count": 2,
   "metadata": {
    "collapsed": false
   },
   "outputs": [],
   "source": [
    "plt.rcParams[\"figure.facecolor\"] = \"white\"\n",
    "plt.rcParams[\"axes.facecolor\"] = \"white\""
   ]
  },
  {
   "cell_type": "code",
   "execution_count": 3,
   "metadata": {
    "collapsed": false
   },
   "outputs": [],
   "source": [
    "df = pd.read_csv(\"./mock_data/mock_data.csv\")"
   ]
  },
  {
   "cell_type": "code",
   "execution_count": 4,
   "metadata": {
    "collapsed": false
   },
   "outputs": [
    {
     "data": {
      "text/html": [
       "<div>\n",
       "<style scoped>\n",
       "    .dataframe tbody tr th:only-of-type {\n",
       "        vertical-align: middle;\n",
       "    }\n",
       "\n",
       "    .dataframe tbody tr th {\n",
       "        vertical-align: top;\n",
       "    }\n",
       "\n",
       "    .dataframe thead th {\n",
       "        text-align: right;\n",
       "    }\n",
       "</style>\n",
       "<table border=\"1\" class=\"dataframe\">\n",
       "  <thead>\n",
       "    <tr style=\"text-align: right;\">\n",
       "      <th></th>\n",
       "      <th>sample_id</th>\n",
       "      <th>molecule1</th>\n",
       "      <th>molecule2</th>\n",
       "      <th>molecule3</th>\n",
       "      <th>bg</th>\n",
       "      <th>sg</th>\n",
       "    </tr>\n",
       "  </thead>\n",
       "  <tbody>\n",
       "    <tr>\n",
       "      <th>0</th>\n",
       "      <td>1</td>\n",
       "      <td>125</td>\n",
       "      <td>32</td>\n",
       "      <td>16</td>\n",
       "      <td>lean</td>\n",
       "      <td>f</td>\n",
       "    </tr>\n",
       "    <tr>\n",
       "      <th>1</th>\n",
       "      <td>5</td>\n",
       "      <td>45</td>\n",
       "      <td>6</td>\n",
       "      <td>3</td>\n",
       "      <td>obese</td>\n",
       "      <td>m</td>\n",
       "    </tr>\n",
       "    <tr>\n",
       "      <th>2</th>\n",
       "      <td>9</td>\n",
       "      <td>118</td>\n",
       "      <td>15</td>\n",
       "      <td>8</td>\n",
       "      <td>obese</td>\n",
       "      <td>f</td>\n",
       "    </tr>\n",
       "    <tr>\n",
       "      <th>3</th>\n",
       "      <td>16</td>\n",
       "      <td>66</td>\n",
       "      <td>17</td>\n",
       "      <td>9</td>\n",
       "      <td>lean</td>\n",
       "      <td>m</td>\n",
       "    </tr>\n",
       "  </tbody>\n",
       "</table>\n",
       "</div>"
      ],
      "text/plain": [
       "   sample_id  molecule1  molecule2  molecule3     bg sg\n",
       "0          1        125         32         16   lean  f\n",
       "1          5         45          6          3  obese  m\n",
       "2          9        118         15          8  obese  f\n",
       "3         16         66         17          9   lean  m"
      ]
     },
     "execution_count": 4,
     "metadata": {},
     "output_type": "execute_result"
    }
   ],
   "source": [
    "df"
   ]
  },
  {
   "cell_type": "code",
   "execution_count": 5,
   "metadata": {
    "collapsed": false
   },
   "outputs": [],
   "source": [
    "def dfToRowFract(df: pd.DataFrame,\n",
    "                 cols_bg_sg: [str] = [\"bg\", \"sg\"],\n",
    "                 cols_vals: [str] = [\"molecule1\", \"molecule2\"],\n",
    "                 percentage: bool = True):\n",
    "\n",
    "    \"\"\"\n",
    "    transforms all the numbers in a df to fractions of rowSums (or percentages)\n",
    "\n",
    "    Input:\n",
    "    ---\n",
    "    df - table to be transformed\n",
    "    cols_bg_sg - name of columns with 'big' and 'small' groups\n",
    "    cols_vals - name of columns with digits\n",
    "    percentage - should y axis represent absolute values or pct (upto 100%)\n",
    "\n",
    "    Output:\n",
    "    ---\n",
    "    new transformed table, each result is val1/colSum1 (optionally: *100)\n",
    "    \"\"\"\n",
    "\n",
    "    df_means = df[cols_bg_sg + cols_vals].groupby(cols_bg_sg).mean().reset_index()\n",
    "\n",
    "    rowSums: pd.Series = df_means.loc[:, cols_vals].sum(axis=1)\n",
    "    fractions: pd.DataFrame = df_means.loc[:, cols_vals].divide(rowSums, axis=0)\n",
    "    if percentage:\n",
    "        fractions = fractions * 100\n",
    "\n",
    "    result = pd.concat([df_means.loc[:, cols_bg_sg], fractions], axis=1)\n",
    "\n",
    "    return result        "
   ]
  },
  {
   "cell_type": "code",
   "execution_count": 6,
   "metadata": {
    "collapsed": false
   },
   "outputs": [
    {
     "data": {
      "text/html": [
       "<div>\n",
       "<style scoped>\n",
       "    .dataframe tbody tr th:only-of-type {\n",
       "        vertical-align: middle;\n",
       "    }\n",
       "\n",
       "    .dataframe tbody tr th {\n",
       "        vertical-align: top;\n",
       "    }\n",
       "\n",
       "    .dataframe thead th {\n",
       "        text-align: right;\n",
       "    }\n",
       "</style>\n",
       "<table border=\"1\" class=\"dataframe\">\n",
       "  <thead>\n",
       "    <tr style=\"text-align: right;\">\n",
       "      <th></th>\n",
       "      <th>bg</th>\n",
       "      <th>sg</th>\n",
       "      <th>molecule1</th>\n",
       "      <th>molecule2</th>\n",
       "      <th>molecule3</th>\n",
       "    </tr>\n",
       "  </thead>\n",
       "  <tbody>\n",
       "    <tr>\n",
       "      <th>0</th>\n",
       "      <td>lean</td>\n",
       "      <td>f</td>\n",
       "      <td>0.722543</td>\n",
       "      <td>0.184971</td>\n",
       "      <td>0.092486</td>\n",
       "    </tr>\n",
       "    <tr>\n",
       "      <th>1</th>\n",
       "      <td>lean</td>\n",
       "      <td>m</td>\n",
       "      <td>0.717391</td>\n",
       "      <td>0.184783</td>\n",
       "      <td>0.097826</td>\n",
       "    </tr>\n",
       "    <tr>\n",
       "      <th>2</th>\n",
       "      <td>obese</td>\n",
       "      <td>f</td>\n",
       "      <td>0.836879</td>\n",
       "      <td>0.106383</td>\n",
       "      <td>0.056738</td>\n",
       "    </tr>\n",
       "    <tr>\n",
       "      <th>3</th>\n",
       "      <td>obese</td>\n",
       "      <td>m</td>\n",
       "      <td>0.833333</td>\n",
       "      <td>0.111111</td>\n",
       "      <td>0.055556</td>\n",
       "    </tr>\n",
       "  </tbody>\n",
       "</table>\n",
       "</div>"
      ],
      "text/plain": [
       "      bg sg  molecule1  molecule2  molecule3\n",
       "0   lean  f   0.722543   0.184971   0.092486\n",
       "1   lean  m   0.717391   0.184783   0.097826\n",
       "2  obese  f   0.836879   0.106383   0.056738\n",
       "3  obese  m   0.833333   0.111111   0.055556"
      ]
     },
     "execution_count": 6,
     "metadata": {},
     "output_type": "execute_result"
    }
   ],
   "source": [
    "x = dfToRowFract(df=df, cols_vals=[\"molecule1\", \"molecule2\", \"molecule3\"], percentage=False)\n",
    "x"
   ]
  },
  {
   "cell_type": "code",
   "execution_count": 7,
   "metadata": {
    "collapsed": false
   },
   "outputs": [],
   "source": [
    "def draw_groupedStackPlot(\n",
    "    tab_with_data: pd.DataFrame,\n",
    "    col_big_group: str,\n",
    "    col_small_group: str,\n",
    "    cols_digits: [str],\n",
    "    order_cols_digits: [str],\n",
    "    colors_digits: [(float)],\n",
    "    labels_digits: [str],\n",
    "    percentage: bool,\n",
    "    main_title: str,\n",
    "    x_axis_title: str,\n",
    "    y_axis_title: str,\n",
    "    labels_bars: [str],\n",
    "):\n",
    "\n",
    "    \"\"\"\n",
    "    draws a stackbarplot (bars in absolute or percentage quota, one on another)\n",
    "\n",
    "    Input:\n",
    "    ---\n",
    "    tab_with_data - df with data (like the one in mock_data.csv)\n",
    "    col_big_group - name of col with 'big' group\n",
    "    col_small_group - name of col with 'small' group\n",
    "    cols_digits - name of cols with digits to (each col new stack layer)\n",
    "    order_cols_digits - order in which cols of digits will be ploted (btm->top)\n",
    "    colors_digits - colors of cols with digits (colors of stack layers)\n",
    "    labels_digits - labels of stack layers to be used in legend\n",
    "    percentage - should plot absolute values or percentages (sum=100%)\n",
    "    main_title - main title displayed above the plot\n",
    "    x_axis_title - title displayed below x axis\n",
    "    y_axis_title - title displayed on left of the y axis\n",
    "    labels_bars - labels displayed below the bars (no of bars = len(bg)*len(sg))\n",
    "\n",
    "    Output:\n",
    "    ---\n",
    "    a graph (stacked barplot or stacked percentage plot) - mpl.axes object\n",
    "    \"\"\"\n",
    "\n",
    "    tab_data: pd.DataFrame = tab_with_data.copy()\n",
    "    tab_data = tab_data.loc[:, cols_digits + [col_big_group, col_small_group]]\n",
    "    if percentage:\n",
    "        tab_data = dfToRowFract(df=tab_data,\n",
    "                                cols_bg_sg=[col_big_group, col_small_group],\n",
    "                                cols_vals=cols_digits,\n",
    "                                percentage=percentage)\n",
    "\n",
    "    maxVal: float = tab_data.sum(axis=1).max()\n",
    "\n",
    "    plt.grid(\n",
    "        b=True,\n",
    "        linestyle=\"dashed\",\n",
    "        which=\"major\",\n",
    "        alpha=0.6,\n",
    "        axis=\"y\",\n",
    "        color=\"grey\",\n",
    "        dashes=(5, 2),\n",
    "        zorder=0,\n",
    "    )\n",
    "\n",
    "    lenBg: int = len(tab_with_data.loc[:, col_big_group].unique())\n",
    "    lenSg: int = len(tab_with_data.loc[:, col_small_group].unique())\n",
    "    noOfBars: int = lenBg * lenSg\n",
    "\n",
    "    bar_width: float = 0.5/lenSg\n",
    "    half_way: float = bar_width*lenSg/4\n",
    "    x_pos: [int] = [np.linspace(start=i-half_way, stop=i+half_way, num=lenSg)\n",
    "                    for i in range(lenBg)]\n",
    "    x_pos = list(np.concatenate(x_pos))\n",
    "\n",
    "    bottoms: [float] = [0] * noOfBars\n",
    "\n",
    "    for i in (range(len(order_cols_digits))):\n",
    "\n",
    "        heights = list(tab_data.loc[:, order_cols_digits[i]])\n",
    "        plt.bar(\n",
    "            x=x_pos,\n",
    "            height=heights,\n",
    "            bottom=bottoms,\n",
    "            color=colors_digits[i],\n",
    "            edgecolor=\"black\",\n",
    "            width=bar_width,\n",
    "            zorder=2,\n",
    "        )\n",
    "\n",
    "        bottoms = list(map(lambda x, y: x + y, bottoms, heights))\n",
    "\n",
    "    axes = plt.gca()\n",
    "    axes.set_ylim([0, maxVal * 1.3])\n",
    "    axes.set_xlim([x_pos[0]-bar_width, x_pos[-1]+bar_width])\n",
    "\n",
    "    handles1: [mpatches.Patch] = []\n",
    "    for i in range(len(order_cols_digits)):\n",
    "        handles1.append(\n",
    "            mpatches.Patch(\n",
    "                edgecolor=\"black\",\n",
    "                linewidth=2,\n",
    "                facecolor=colors_digits[i],\n",
    "                label=labels_digits[i],\n",
    "            )\n",
    "        )\n",
    "\n",
    "    plt.legend(handles=handles1, loc=\"best\")\n",
    "\n",
    "    plt.title(label=main_title)\n",
    "    plt.xlabel(xlabel=x_axis_title)\n",
    "    plt.ylabel(ylabel=y_axis_title)\n",
    "    plt.xticks(ticks=x_pos, labels=labels_bars)\n",
    "\n",
    "    # return 0"
   ]
  },
  {
   "cell_type": "code",
   "execution_count": 8,
   "metadata": {
    "collapsed": false
   },
   "outputs": [
    {
     "data": {
      "image/png": "[encoded data removed]",
      "text/plain": [
       "<Figure size 936x576 with 1 Axes>"
      ]
     },
     "metadata": {},
     "output_type": "display_data"
    }
   ],
   "source": [
    "sns.set_context(context=\"poster\")\n",
    "plt.figure(figsize=(13, 8))\n",
    "draw_groupedStackPlot(tab_with_data=df,\n",
    "                      col_big_group=\"bg\",\n",
    "                      col_small_group=\"sg\",\n",
    "                      cols_digits=[\"molecule1\", \"molecule2\", \"molecule3\"],\n",
    "                      order_cols_digits=[\"molecule3\", \"molecule2\", \"molecule1\"],\n",
    "                      labels_digits=[\"Mol3\", \"Mol2\", \"Mol1\"],\n",
    "                      colors_digits=[(1, 0, 0), (0, 0, 1), (0.7, 0.7, 0.7)],\n",
    "                      percentage=False,\n",
    "                      main_title=\"percentage distribution\",\n",
    "                      y_axis_title=\"concentration [mg/mL]\",\n",
    "                      x_axis_title=\"\",\n",
    "                      labels_bars=[\"Lean\\nfemale\", \"Lean\\nmale\",\n",
    "                                   \"Obese\\nfemale\", \"Obese\\nmale\"])"
   ]
  }
 ],
 "metadata": {
  "kernelspec": {
   "argv": [
    "python",
    "-m",
    "ipykernel_launcher",
    "-f",
    "{connection_file}"
   ],
   "display_name": "Python 3",
   "env": null,
   "interrupt_mode": "signal",
   "language": "python",
   "metadata": null,
   "name": "python3"
  },
  "name": "test.ipynb"
 },
 "nbformat": 4,
 "nbformat_minor": 4
}
